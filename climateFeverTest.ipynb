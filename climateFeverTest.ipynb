{
 "cells": [
  {
   "cell_type": "code",
   "execution_count": 33,
   "metadata": {},
   "outputs": [],
   "source": [
    "import pandas as pd\n",
    "import json"
   ]
  },
  {
   "cell_type": "code",
   "execution_count": 50,
   "metadata": {},
   "outputs": [
    {
     "data": {
      "text/html": [
       "<div>\n",
       "<style scoped>\n",
       "    .dataframe tbody tr th:only-of-type {\n",
       "        vertical-align: middle;\n",
       "    }\n",
       "\n",
       "    .dataframe tbody tr th {\n",
       "        vertical-align: top;\n",
       "    }\n",
       "\n",
       "    .dataframe thead th {\n",
       "        text-align: right;\n",
       "    }\n",
       "</style>\n",
       "<table border=\"1\" class=\"dataframe\">\n",
       "  <thead>\n",
       "    <tr style=\"text-align: right;\">\n",
       "      <th></th>\n",
       "      <th>json_index</th>\n",
       "      <th>json_ids</th>\n",
       "    </tr>\n",
       "  </thead>\n",
       "  <tbody>\n",
       "    <tr>\n",
       "      <th>0</th>\n",
       "      <td>001</td>\n",
       "      <td></td>\n",
       "    </tr>\n",
       "    <tr>\n",
       "      <th>1</th>\n",
       "      <td>001</td>\n",
       "      <td>1928_in_association_football</td>\n",
       "    </tr>\n",
       "    <tr>\n",
       "      <th>2</th>\n",
       "      <td>001</td>\n",
       "      <td>1986_NBA_Finals</td>\n",
       "    </tr>\n",
       "    <tr>\n",
       "      <th>3</th>\n",
       "      <td>001</td>\n",
       "      <td>1901_Villanova_Wildcats_football_team</td>\n",
       "    </tr>\n",
       "    <tr>\n",
       "      <th>4</th>\n",
       "      <td>001</td>\n",
       "      <td>1992_Northwestern_Wildcats_football_team</td>\n",
       "    </tr>\n",
       "    <tr>\n",
       "      <th>...</th>\n",
       "      <td>...</td>\n",
       "      <td>...</td>\n",
       "    </tr>\n",
       "    <tr>\n",
       "      <th>5416532</th>\n",
       "      <td>109</td>\n",
       "      <td>Yuto_Agarie</td>\n",
       "    </tr>\n",
       "    <tr>\n",
       "      <th>5416533</th>\n",
       "      <td>109</td>\n",
       "      <td>Yume_1_Go</td>\n",
       "    </tr>\n",
       "    <tr>\n",
       "      <th>5416534</th>\n",
       "      <td>109</td>\n",
       "      <td>Yada_Yada_-LRB-album-RRB-</td>\n",
       "    </tr>\n",
       "    <tr>\n",
       "      <th>5416535</th>\n",
       "      <td>109</td>\n",
       "      <td>Xylorycta_bipunctella</td>\n",
       "    </tr>\n",
       "    <tr>\n",
       "      <th>5416536</th>\n",
       "      <td>109</td>\n",
       "      <td>Łęczyce,_Greater_Poland_Voivodeship</td>\n",
       "    </tr>\n",
       "  </tbody>\n",
       "</table>\n",
       "<p>5416537 rows × 2 columns</p>\n",
       "</div>"
      ],
      "text/plain": [
       "        json_index                                  json_ids\n",
       "0              001                                          \n",
       "1              001              1928_in_association_football\n",
       "2              001                           1986_NBA_Finals\n",
       "3              001     1901_Villanova_Wildcats_football_team\n",
       "4              001  1992_Northwestern_Wildcats_football_team\n",
       "...            ...                                       ...\n",
       "5416532        109                               Yuto_Agarie\n",
       "5416533        109                                 Yume_1_Go\n",
       "5416534        109                 Yada_Yada_-LRB-album-RRB-\n",
       "5416535        109                     Xylorycta_bipunctella\n",
       "5416536        109       Łęczyce,_Greater_Poland_Voivodeship\n",
       "\n",
       "[5416537 rows x 2 columns]"
      ]
     },
     "execution_count": 50,
     "metadata": {},
     "output_type": "execute_result"
    }
   ],
   "source": [
    "json_index = []\n",
    "json_ids = []\n",
    "\n",
    "for diz in ['00','01','02','03','04','05','06','07','08','09','10']:\n",
    "    for unit in ['0','1','2','3','4','5','6','7','8','9']:\n",
    "        if diz+unit != \"000\":\n",
    "            ids = pd.read_json(\"data/wiki-pages/wiki-\"+diz+unit+\".jsonl\", lines=True)['id'].tolist()\n",
    "            json_ids.extend(ids)\n",
    "            for i in range(len(ids)):\n",
    "                json_index.append(diz+unit)\n",
    "\n",
    "data = pd.DataFrame(json_index,columns=[\"json_index\"])\n",
    "data.insert(1,\"json_ids\",json_ids)\n",
    "\n",
    "data"
   ]
  },
  {
   "cell_type": "code",
   "execution_count": 57,
   "metadata": {},
   "outputs": [],
   "source": [
    "data.to_csv(\"data/wiki_indexes.csv\",index=False)"
   ]
  },
  {
   "cell_type": "code",
   "execution_count": 82,
   "metadata": {},
   "outputs": [
    {
     "name": "stdout",
     "output_type": "stream",
     "text": [
      "['0\\tTransformers : Age of Extinction is a 2014 American science fiction action film based on the Transformers franchise .\\tTransformers\\tTransformers\\tscience fiction\\tScience fiction film\\taction film\\taction film', \"1\\tIt is the fourth installment of the live-action Transformers film series and a stand-alone sequel to 2011 's Transformers : Dark of the Moon , taking place five years after its events .\\tTransformers\\tTransformers\\tlive-action\\tLive action\", '2\\tLike its predecessors , it was directed by Michael Bay and written by Ehren Kruger , with Steven Spielberg and Bay as executive producers .\\tMichael Bay\\tMichael Bay\\tEhren Kruger\\tEhren Kruger\\tSteven Spielberg\\tSteven Spielberg', '3\\tIt stars Mark Wahlberg , with Peter Cullen reprising his role as the voice of Optimus Prime , as the lead roles .\\tMark Wahlberg\\tMark Wahlberg\\tPeter Cullen\\tPeter Cullen\\tOptimus Prime\\tOptimus Prime', '4\\tIt is the first film in the series to not feature the original human characters from the first three films , but features a new cast of human characters and many new Transformers including : the Dinobots , Lockdown , Stinger , Junkheap , Hound , Crosshairs and Drift .\\tTransformers\\tTransformers\\tDinobots\\tDinobots', '5\\tReturning Transformers include : Optimus Prime , Bumblebee , Ratchet , Leadfoot , Brains and Megatron -LRB- now known as Galvatron -RRB- .\\tTransformers\\tTransformers\\tOptimus Prime\\tOptimus Prime\\tBumblebee\\tBumblebee (Transformers)\\tRatchet\\tRatchet (Transformers)\\tLeadfoot\\tLeadfoot (Transformers)\\tMegatron\\tMegatron\\tGalvatron\\tGalvatron', '6\\tThe film was released on June 27 , 2014 , in IMAX and 3D .\\tIMAX\\tIMAX\\t3D\\t3D film', '7\\t', '8\\t', '9\\tTransformers : Age of Extinction was panned by critics , many of whom considered it poorly directed , badly acted , and terribly written .\\tTransformers\\tTransformers', '10\\tAccording to Rotten Tomatoes , it is the worst reviewed film in the series , holding an 18 % approval rating .\\tRotten Tomatoes\\tRotten Tomatoes', '11\\tIt also received seven nominations at the 35th Golden Raspberry Awards , including Worst Picture and Worst Prequel , Remake , Rip-off or Sequel , with Bay and Kelsey Grammer winning the awards for Worst Director and Worst Supporting Actor respectively .\\tKelsey Grammer\\tKelsey Grammer\\t35th Golden Raspberry Awards\\t35th Golden Raspberry Awards\\tWorst Picture\\tGolden Raspberry Award for Worst Picture\\tWorst Director\\tGolden Raspberry Award for Worst Director\\tWorst Supporting Actor\\tGolden Raspberry Award for Worst Supporting Actor', '12\\tThe film grossed over $ 1.104 billion worldwide , making it the highest-grossing film of 2014 , the second highest-grossing film in the Transformers series , the 19th film to gross over $ 1 billion , and the 16th highest-grossing film of all time .\\tTransformers\\tTransformers\\thighest-grossing film of 2014\\t2014 in film\\t16th highest-grossing film of all time\\tList of highest-grossing films', '13\\tIt was the only film to gross over $ 1 billion in 2014 .', '14\\t', '15\\t', '16\\tA sequel , Transformers : The Last Knight , is set to be released on June 21 , 2017 , with Cullen , Tucci , and Wahlberg returning , and Bay directing .\\tTransformers\\tTransformers', '17\\t']\n"
     ]
    }
   ],
   "source": [
    "data2 = pd.read_json(\"data/train.jsonl\", lines=True)\n",
    "wiki_page = data2[\"evidence\"][1000][0][0][2]\n",
    "\n",
    "json_index = data['json_index'][data['json_ids']==wiki_page].to_string().split(\" \").pop()\n",
    "\n",
    "wiki_data = pd.read_json(\"data/wiki-pages/wiki-\"+json_index+\".jsonl\", lines=True)\n",
    "\n",
    "wiki_article_lines = wiki_data[\"lines\"][wiki_data[\"id\"]==wiki_page].to_list()[0].split(\"\\n\")\n",
    "\n",
    "print(wiki_article_lines[])"
   ]
  },
  {
   "cell_type": "code",
   "execution_count": 12,
   "metadata": {},
   "outputs": [
    {
     "name": "stdout",
     "output_type": "stream",
     "text": [
      "DISPUTED\n"
     ]
    }
   ],
   "source": [
    "import torch\n",
    "import json\n",
    "from transformers import DistilBertTokenizer, DistilBertForSequenceClassification\n",
    "\n",
    "model_token_verdict = DistilBertTokenizer.from_pretrained('distilbert-base-uncased')\n",
    "model_voter_verdict = DistilBertForSequenceClassification.from_pretrained(\"model/voter_5\")\n",
    "\n",
    "votes = [[2, 0, 0, 3, 0], [2, 2, 2, 3, 2], [2, 0, 1, 3, 1], [2, 0, 2, 3, 1], [1, 2, 2, 3, 2]]\n",
    "\n",
    "\n",
    "inputs = model_token_verdict(json.dumps(votes), return_tensors=\"pt\")\n",
    "with torch.no_grad():\n",
    "    logits = model_voter_verdict(**inputs).logits\n",
    "\n",
    "predicted_class_id = logits.argmax().item()\n",
    "\n",
    "classes = ['NOT_ENOUGH_INFO','SUPPORTS', 'REFUTES', None]\n",
    "\n",
    "print(classes[predicted_class_id])"
   ]
  }
 ],
 "metadata": {
  "kernelspec": {
   "display_name": "Python 3",
   "language": "python",
   "name": "python3"
  },
  "language_info": {
   "codemirror_mode": {
    "name": "ipython",
    "version": 3
   },
   "file_extension": ".py",
   "mimetype": "text/x-python",
   "name": "python",
   "nbconvert_exporter": "python",
   "pygments_lexer": "ipython3",
   "version": "3.11.7"
  }
 },
 "nbformat": 4,
 "nbformat_minor": 2
}
