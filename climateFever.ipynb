{
 "cells": [
  {
   "cell_type": "code",
   "execution_count": 37,
   "metadata": {},
   "outputs": [],
   "source": [
    "from sentence_transformers import SentenceTransformer,util\n",
    "from transformers import DistilBertTokenizer, DistilBertForSequenceClassification\n",
    "import pandas as pd\n",
    "import torch\n",
    "import json\n",
    "\n",
    "input = \"Armed conflicts over resources may become a reality, and have the potential to escalate into nuclear war.\"\n",
    "\n",
    "data = pd.read_csv(\"data/climate_fever_evidence_embedding.csv\",header=None)\n"
   ]
  },
  {
   "cell_type": "code",
   "execution_count": 38,
   "metadata": {},
   "outputs": [
    {
     "name": "stderr",
     "output_type": "stream",
     "text": [
      "c:\\Users\\enzol\\AppData\\Local\\Programs\\Python\\Python311\\Lib\\site-packages\\huggingface_hub\\file_download.py:1132: FutureWarning: `resume_download` is deprecated and will be removed in version 1.0.0. Downloads always resume when possible. If you want to force a new download, use `force_download=True`.\n",
      "  warnings.warn(\n"
     ]
    },
    {
     "name": "stdout",
     "output_type": "stream",
     "text": [
      "[[0, 1, 3, 3, 3], [0, 0, 3, 3, 3], [0, 0, 3, 3, 3], [0, 1, 3, 3, 3], [0, 1, 3, 3, 3]]\n",
      "NOT_ENOUGH_INFO\n"
     ]
    }
   ],
   "source": [
    "embds = []\n",
    "\n",
    "for embd in data[1]:\n",
    "    embds.append(json.loads(embd))\n",
    "\n",
    "embds = torch.Tensor(embds)\n",
    "\n",
    "model = SentenceTransformer('sentence-transformers/stsb-roberta-base-v2')\n",
    "\n",
    "def topkRelatedSentence(k, inputEmb, dataEmb):\n",
    "    similarityScore = util.cos_sim(inputEmb, dataEmb)\n",
    "    return torch.topk(similarityScore, k)[1].reshape(-1)\n",
    "\n",
    "indexes = topkRelatedSentence(5, model.encode(input), embds)\n",
    "\n",
    "topEvidences = data[0].iloc[indexes].tolist()\n",
    "\n",
    "pairs = []\n",
    "\n",
    "for evidence in topEvidences:\n",
    "    pairs.append(json.dumps([input,evidence]))\n",
    "\n",
    "votes = []\n",
    "\n",
    "model_token = DistilBertTokenizer.from_pretrained('distilbert-base-uncased')\n",
    "model_voter_1 = DistilBertForSequenceClassification.from_pretrained(\"model/voter_1\")\n",
    "model_voter_2 = DistilBertForSequenceClassification.from_pretrained(\"model/voter_2\")\n",
    "model_voter_3 = DistilBertForSequenceClassification.from_pretrained(\"model/voter_3\")\n",
    "model_voter_4 = DistilBertForSequenceClassification.from_pretrained(\"model/voter_4\")\n",
    "model_voter_5 = DistilBertForSequenceClassification.from_pretrained(\"model/voter_5\")\n",
    "\n",
    "model_voters = [model_voter_1, model_voter_2, model_voter_3, model_voter_4, model_voter_5]\n",
    "\n",
    "for pair in pairs:\n",
    "    temp_vote = []\n",
    "    for model_voter in model_voters:\n",
    "        inputs = model_token(pair, return_tensors=\"pt\")\n",
    "        with torch.no_grad():\n",
    "            logits = model_voter(**inputs).logits\n",
    "        predicted_class_id = logits.argmax().item()\n",
    "        temp_vote.append(predicted_class_id)\n",
    "    votes.append(temp_vote)\n",
    "\n",
    "print(votes)\n",
    "\n",
    "model_token_verdict = DistilBertTokenizer.from_pretrained('distilbert-base-uncased')\n",
    "model_voter_verdict = DistilBertForSequenceClassification.from_pretrained(\"model/verdict\")\n",
    "\n",
    "inputs = model_token_verdict(json.dumps(votes), return_tensors=\"pt\")\n",
    "with torch.no_grad():\n",
    "    logits = model_voter_verdict(**inputs).logits\n",
    "\n",
    "predicted_class_id = logits.argmax().item()\n",
    "\n",
    "classes = ['NOT_ENOUGH_INFO','SUPPORTS', 'REFUTES', 'DISPUTED']\n",
    "\n",
    "print(classes[predicted_class_id])"
   ]
  }
 ],
 "metadata": {
  "kernelspec": {
   "display_name": "Python 3",
   "language": "python",
   "name": "python3"
  },
  "language_info": {
   "codemirror_mode": {
    "name": "ipython",
    "version": 3
   },
   "file_extension": ".py",
   "mimetype": "text/x-python",
   "name": "python",
   "nbconvert_exporter": "python",
   "pygments_lexer": "ipython3",
   "version": "3.11.7"
  }
 },
 "nbformat": 4,
 "nbformat_minor": 2
}
