{
 "cells": [
  {
   "cell_type": "code",
   "execution_count": 1,
   "metadata": {},
   "outputs": [
    {
     "name": "stderr",
     "output_type": "stream",
     "text": [
      "c:\\Users\\enzol\\AppData\\Local\\Programs\\Python\\Python311\\Lib\\site-packages\\tqdm\\auto.py:21: TqdmWarning: IProgress not found. Please update jupyter and ipywidgets. See https://ipywidgets.readthedocs.io/en/stable/user_install.html\n",
      "  from .autonotebook import tqdm as notebook_tqdm\n",
      "c:\\Users\\enzol\\AppData\\Local\\Programs\\Python\\Python311\\Lib\\site-packages\\huggingface_hub\\file_download.py:1132: FutureWarning: `resume_download` is deprecated and will be removed in version 1.0.0. Downloads always resume when possible. If you want to force a new download, use `force_download=True`.\n",
      "  warnings.warn(\n",
      "c:\\Users\\enzol\\AppData\\Local\\Programs\\Python\\Python311\\Lib\\site-packages\\huggingface_hub\\file_download.py:1132: FutureWarning: `resume_download` is deprecated and will be removed in version 1.0.0. Downloads always resume when possible. If you want to force a new download, use `force_download=True`.\n",
      "  warnings.warn(\n"
     ]
    }
   ],
   "source": [
    "from sentence_transformers import SentenceTransformer,util\n",
    "from sklearn.metrics.pairwise import cosine_similarity\n",
    "import pandas as pd\n",
    "import json\n",
    "import torch\n",
    "\n",
    "data = pd.read_csv(\"data/climate_fever_evidence_embedding.csv\",header=None)\n",
    "embds = []\n",
    "\n",
    "for embd in data[1]:\n",
    "    embds.append(json.loads(embd))\n",
    "\n",
    "embds = torch.Tensor(embds)\n",
    "\n",
    "model = SentenceTransformer('sentence-transformers/all-roberta-large-v1')\n",
    "\n",
    "def topkRelatedSentence(k, inputEmb, dataEmb):\n",
    "    similarityScore = util.cos_sim(inputEmb, dataEmb)\n",
    "    return torch.topk(similarityScore, k)[1].reshape(-1)"
   ]
  },
  {
   "cell_type": "code",
   "execution_count": 2,
   "metadata": {},
   "outputs": [
    {
     "name": "stdout",
     "output_type": "stream",
     "text": [
      "Claim :\n",
      "\n",
      "Brooks added that Antarctic ice is growing.\n",
      "\n",
      "Top 5 related sentences with cosim from embeddings :\n",
      "\n",
      "In contrast to the melting of the Arctic sea ice, sea ice around Antarctica has been expanding as of 2013[update].\n",
      "\"A 40-y record reveals gradual Antarctic sea ice increases followed by decreases at rates far exceeding the rates seen in the Arctic\".\n",
      "\"Study concludes Antarctica is gaining ice, rather than losing it\".\n",
      "\"Mass gains of the Antarctic ice sheet exceed losses\".\n",
      "Arctic temperatures have increased and are predicted to continue to increase during this century at over twice the rate of the rest of the world.\n"
     ]
    }
   ],
   "source": [
    "input = \"Brooks added that Antarctic ice is growing.\"\n",
    "\n",
    "print(\"Claim :\\n\")\n",
    "print(input)\n",
    "\n",
    "indexes = topkRelatedSentence(5, model.encode(input), embds)\n",
    "\n",
    "topEvidences = data[0].iloc[indexes].tolist()\n",
    "\n",
    "print(\"\\nTop 5 related sentences with cosim from embeddings :\\n\")\n",
    "\n",
    "for evidence in topEvidences:\n",
    "    print(evidence)"
   ]
  },
  {
   "cell_type": "code",
   "execution_count": null,
   "metadata": {},
   "outputs": [],
   "source": []
  }
 ],
 "metadata": {
  "kernelspec": {
   "display_name": "Python 3",
   "language": "python",
   "name": "python3"
  },
  "language_info": {
   "codemirror_mode": {
    "name": "ipython",
    "version": 3
   },
   "file_extension": ".py",
   "mimetype": "text/x-python",
   "name": "python",
   "nbconvert_exporter": "python",
   "pygments_lexer": "ipython3",
   "version": "3.11.7"
  }
 },
 "nbformat": 4,
 "nbformat_minor": 2
}
