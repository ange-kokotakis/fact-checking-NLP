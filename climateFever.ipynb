{
 "cells": [
  {
   "cell_type": "code",
   "execution_count": 3,
   "metadata": {},
   "outputs": [],
   "source": [
    "import pandas as pd\n",
    "from sentence_transformers import SentenceTransformer, util\n",
    "import torch"
   ]
  },
  {
   "cell_type": "code",
   "execution_count": 4,
   "metadata": {},
   "outputs": [
    {
     "name": "stderr",
     "output_type": "stream",
     "text": [
      "C:\\Users\\Ange\\AppData\\Roaming\\Python\\Python311\\site-packages\\huggingface_hub\\file_download.py:1132: FutureWarning: `resume_download` is deprecated and will be removed in version 1.0.0. Downloads always resume when possible. If you want to force a new download, use `force_download=True`.\n",
      "  warnings.warn(\n",
      "C:\\Users\\Ange\\AppData\\Roaming\\Python\\Python311\\site-packages\\huggingface_hub\\file_download.py:1132: FutureWarning: `resume_download` is deprecated and will be removed in version 1.0.0. Downloads always resume when possible. If you want to force a new download, use `force_download=True`.\n",
      "  warnings.warn(\n"
     ]
    }
   ],
   "source": [
    "model = SentenceTransformer('sentence-transformers/all-MiniLM-L6-v2')\n",
    "\n",
    "data = pd.read_csv(\"data/climate-fever-with-emb.csv\", encoding=\"utf-8\", header=None)\n",
    "embeddingsPanda = data.drop(columns=[0, 1])\n",
    "embeddings = torch.Tensor(embeddingsPanda.to_numpy())\n",
    "sentences = data[0]\n",
    "id_claim = data[1]"
   ]
  },
  {
   "cell_type": "code",
   "execution_count": 5,
   "metadata": {},
   "outputs": [],
   "source": [
    "input = \"polar bear are disappearing\"\n",
    "inputEmb = model.encode(input)"
   ]
  },
  {
   "cell_type": "code",
   "execution_count": 12,
   "metadata": {},
   "outputs": [],
   "source": [
    "def relatedSentence(threshold, inputEmb, dataEmb):\n",
    "    similarityScore = util.cos_sim(inputEmb, dataEmb)\n",
    "    return torch.nonzero(abs(similarityScore)> threshold).reshape(-1)\n",
    "\n",
    "def topkRelatedSentence(k, inputEmb, dataEmb):\n",
    "    similarityScore = util.cos_sim(inputEmb, dataEmb)\n",
    "    return torch.topk(similarityScore, 5)[1].reshape(-1)"
   ]
  },
  {
   "cell_type": "code",
   "execution_count": 15,
   "metadata": {},
   "outputs": [
    {
     "data": {
      "text/plain": [
       "['The polar bear population has been growing.',\n",
       " 'Polar bear numbers are increasing.',\n",
       " 'Global warming is driving polar bears toward extinction',\n",
       " 'Polar bear numbers are increasing',\n",
       " 'Polar bears are in danger of extinction as well as many other species.']"
      ]
     },
     "execution_count": 15,
     "metadata": {},
     "output_type": "execute_result"
    }
   ],
   "source": [
    "indexs = topkRelatedSentence(5, inputEmb, embeddings)\n",
    "sentences.iloc[indexs].tolist()"
   ]
  },
  {
   "cell_type": "code",
   "execution_count": 16,
   "metadata": {},
   "outputs": [
    {
     "data": {
      "text/plain": [
       "tensor([   0,    0,    0,    2,    0,  232,    0,  299,    0,  300,    0,  301,\n",
       "           0,  302,    0,  303,    0,  304,    0,  456,    0,  506,    0,  641,\n",
       "           0,  644,    0,  730,    0,  801,    0, 1014,    0, 1030,    0, 1157,\n",
       "           0, 1175])"
      ]
     },
     "execution_count": 16,
     "metadata": {},
     "output_type": "execute_result"
    }
   ],
   "source": [
    "indexs = relatedSentence(0.4, inputEmb, embeddings)\n",
    "sentences.iloc[indexs].tolist()\n",
    "indexs"
   ]
  }
 ],
 "metadata": {
  "kernelspec": {
   "display_name": "Python 3",
   "language": "python",
   "name": "python3"
  },
  "language_info": {
   "codemirror_mode": {
    "name": "ipython",
    "version": 3
   },
   "file_extension": ".py",
   "mimetype": "text/x-python",
   "name": "python",
   "nbconvert_exporter": "python",
   "pygments_lexer": "ipython3",
   "version": "3.11.7"
  }
 },
 "nbformat": 4,
 "nbformat_minor": 2
}
