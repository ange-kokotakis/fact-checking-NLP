{
 "cells": [
  {
   "cell_type": "code",
   "execution_count": 9,
   "metadata": {},
   "outputs": [
    {
     "name": "stdout",
     "output_type": "stream",
     "text": [
      "\"Recent Research Shows Human Activity Driving Earth Towards Global Extinction Event\".\n",
      "Environmental impacts include the extinction or relocation of many species as their ecosystems change, most immediately the environments of coral reefs, mountains, and the Arctic.\n",
      "Rising temperatures push bees to their physiological limits, and could cause the extinction of bee populations.\n",
      "Rising global temperatures, caused by the greenhouse effect, contribute to habitat destruction, endangering various species, such as the polar bear.\n",
      "\"Bear hunting caught in global warming debate\".\n"
     ]
    }
   ],
   "source": [
    "from sentence_transformers import SentenceTransformer,util\n",
    "from sklearn.metrics.pairwise import cosine_similarity\n",
    "import pandas as pd\n",
    "import numpy as np\n",
    "import json\n",
    "import torch\n",
    "\n",
    "data = pd.read_json(\"data/climate-fever.jsonl\", lines=True)\n",
    "\n",
    "for ev in data[\"evidences\"][0]:\n",
    "    print(ev[\"evidence\"])"
   ]
  },
  {
   "cell_type": "code",
   "execution_count": 37,
   "metadata": {},
   "outputs": [
    {
     "name": "stdout",
     "output_type": "stream",
     "text": [
      "[ 323 1383  157 ... 1083  347  204]\n",
      "[ 457  905  188  925  971  926 1401 1198 1400  439 1508   22  792   20\n",
      " 1409 1507  992 1217  338 1382  691  431 1386  608  161 1518  466 1178\n",
      " 1192 1022  185  140 1177   81 1231  624  658  842  781 1305  407 1299\n",
      "   36  633 1173  985  749  774  585  917  729   94  646  929  869  132\n",
      "  443   68  405 1310  804 1478  938  871  662 1420   84 1147  378  361\n",
      "  110 1384  438 1201  250  635  837  919   43 1228 1030 1180 1463  235\n",
      "  873  316  784 1206  404  768 1245 1020  186  965  945  232  739  424\n",
      "  100 1522 1086  524 1432  851 1001  514   82  996  901  897 1402 1047\n",
      "  227 1214  397 1341  607  319  230  979 1063  666  420 1346 1502 1216\n",
      "  708  776  943 1078   61 1244  664  345  498 1248 1447  715 1407  234\n",
      "    6 1100 1318  109  931  629   56 1332  941 1009 1067  497 1186  268\n",
      "  571  687  422  689 1128 1292  688 1019  780 1380  379 1137 1108    7\n",
      " 1140  593  297  493  713 1115  483 1397 1485  489 1527  728  686  665\n",
      "  164 1152  648  757 1455  496  906  723   33  380   54  884  468  947\n",
      "  278 1034    8  814  332  697  215  640 1218 1399  180 1319  381 1230\n",
      " 1453  908  198 1247 1059 1061  172  818  743  845 1287  612 1419  288\n",
      "  565  515  685  532  387 1490   18  476  196 1511  538  178  363  174\n",
      "   78 1260  839  122  602  440  412 1279  828  200 1105  694   89 1273\n",
      "  911  644  490  394  894 1529  522  727  290  991 1015  114  819  765\n",
      "  181 1070 1255 1385  857 1329 1530  980  969  298  388 1079  484 1336\n",
      "  324  477 1307  867  144   96  836  414  875  428  149  903  435 1303\n",
      "  382   32  305  968 1506  939 1359 1269  197  655  321 1153  243]\n"
     ]
    }
   ],
   "source": [
    "indexes = np.arange(len(data))\n",
    "np.random.shuffle(indexes)\n",
    "\n",
    "train_index = np.arange(int(len(data)*0.8))\n",
    "test_index = np.arange(int(len(data)*0.8),len(data))\n",
    "\n",
    "print(indexes[train_index])\n",
    "print(indexes[test_index])"
   ]
  }
 ],
 "metadata": {
  "kernelspec": {
   "display_name": "Python 3",
   "language": "python",
   "name": "python3"
  },
  "language_info": {
   "codemirror_mode": {
    "name": "ipython",
    "version": 3
   },
   "file_extension": ".py",
   "mimetype": "text/x-python",
   "name": "python",
   "nbconvert_exporter": "python",
   "pygments_lexer": "ipython3",
   "version": "3.11.7"
  }
 },
 "nbformat": 4,
 "nbformat_minor": 2
}
